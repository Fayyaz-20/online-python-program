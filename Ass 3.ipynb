{
 "cells": [
  {
   "cell_type": "code",
   "execution_count": 5,
   "id": "08c2ee0a",
   "metadata": {},
   "outputs": [
    {
     "name": "stdout",
     "output_type": "stream",
     "text": [
      "Twinkle, twinkle, little star,\n",
      "\tHow I wonder what you are!\n",
      "\t\tUp above the world so high,\n",
      "\t\tLike a diamond in the sky.\n",
      "Twinkle, twinkle, little star,\n",
      "\tHow I wonder what you are\n"
     ]
    }
   ],
   "source": [
    "#Write a Python program to print the following string in a specific format (see the output).\n",
    "print(\"Twinkle, twinkle, little star,\");\n",
    "print(\"\\tHow I wonder what you are!\");\n",
    "print(\"\\t\\tUp above the world so high,\");\n",
    "print(\"\\t\\tLike a diamond in the sky.\");\n",
    "print(\"Twinkle, twinkle, little star,\");\n",
    "print(\"\\tHow I wonder what you are\");"
   ]
  },
  {
   "cell_type": "code",
   "execution_count": 8,
   "id": "2e378cdd",
   "metadata": {},
   "outputs": [
    {
     "name": "stdout",
     "output_type": "stream",
     "text": [
      "Python version\n",
      "3.8.8 (default, Apr 13 2021, 15:08:03) [MSC v.1916 64 bit (AMD64)]\n"
     ]
    }
   ],
   "source": [
    "#Write a Python program to get the Python version you are using\n",
    "print(\"Python version\");\n",
    "import sys;\n",
    "print(sys.version);"
   ]
  },
  {
   "cell_type": "code",
   "execution_count": 3,
   "id": "3de59530",
   "metadata": {},
   "outputs": [
    {
     "name": "stdout",
     "output_type": "stream",
     "text": [
      "Date and Time:  2021-10-24 12:37:06.945460\n"
     ]
    }
   ],
   "source": [
    "#Write a Python program to display the current date and time.\n",
    "from datetime import datetime;\n",
    "now=datetime.now();\n",
    "print(\"Date and Time: \",now);"
   ]
  },
  {
   "cell_type": "code",
   "execution_count": 7,
   "id": "7b2c38ef",
   "metadata": {},
   "outputs": [
    {
     "name": "stdout",
     "output_type": "stream",
     "text": [
      "Enter radius of the circle:- 4\n",
      "Area of the circle is 50.26548245744\n"
     ]
    }
   ],
   "source": [
    "#Write a Python program which accepts the radius of a circle from the user and compute the area.\n",
    "r=int(input(\"Enter radius of the circle:- \"));\n",
    "a=3.14159265359*r**2;\n",
    "print(\"Area of the circle is\",a);"
   ]
  },
  {
   "cell_type": "code",
   "execution_count": 9,
   "id": "e40436c4",
   "metadata": {},
   "outputs": [
    {
     "name": "stdout",
     "output_type": "stream",
     "text": [
      "Enter your first name:- Muhammad\n",
      "Input your second name:- Fayyaz\n",
      "Fayyaz Muhammad\n"
     ]
    }
   ],
   "source": [
    "#Write a Python program which accepts the user's first and last name and print them inreverse order with a space between them.\n",
    "f=input(\"Enter your first name:- \");\n",
    "s=input(\"Input your second name:- \");\n",
    "print(s+\" \"+f);"
   ]
  },
  {
   "cell_type": "code",
   "execution_count": 11,
   "id": "b42c12f3",
   "metadata": {},
   "outputs": [
    {
     "name": "stdout",
     "output_type": "stream",
     "text": [
      "Enter number 1:- 99\n",
      "Enter number 2:- 5\n",
      "The addition of these two number is 104\n"
     ]
    }
   ],
   "source": [
    "#Write a python program which takes two inputs from user and print them addition\n",
    "n1=int(input(\"Enter number 1:- \"));\n",
    "n2=int(input(\"Enter number 2:- \"));\n",
    "n=n1+n2;\n",
    "print(\"The addition of these two number is\",n);"
   ]
  },
  {
   "cell_type": "code",
   "execution_count": 13,
   "id": "be48e287",
   "metadata": {},
   "outputs": [
    {
     "name": "stdout",
     "output_type": "stream",
     "text": [
      "Enter your english marks: 55\n",
      "Enter your Maths marks: 90\n",
      "Enter your Islamiat marks: 78\n",
      "Enter your urdu marks: 66\n",
      "Enter your chemistry marks: 67\n",
      "Your grade is A\n",
      "Your percentage is 71.2\n"
     ]
    }
   ],
   "source": [
    "#Write a program which takes 5 inputs from user for different subject’s marks, total it and generate mark sheet using grades ?\n",
    "eng=int(input(\"Enter your english marks: \"));\n",
    "math=int(input(\"Enter your Maths marks: \"));\n",
    "isl=int(input(\"Enter your Islamiat marks: \"));\n",
    "urdu=int(input(\"Enter your urdu marks: \"));\n",
    "chem=int(input(\"Enter your chemistry marks: \"));\n",
    "obt_marks=eng+math+isl+urdu+chem;\n",
    "to_marks=500;\n",
    "per=obt_marks/to_marks*100;\n",
    "if per>=80 and per<100:\n",
    "    print(\"Your grade is A+\");\n",
    "elif per>=70 and per<80:\n",
    "    print(\"Your grade is A\");\n",
    "elif per>=60 and per<70:\n",
    "    print(\"Your grade is B\");\n",
    "elif per>=50 and per<60:\n",
    "    print(\"Your grade is C\");\n",
    "elif per>=40 and per<50:\n",
    "    print(\"Your grade is D\");\n",
    "elif per>=33 and per<40:\n",
    "    print(\"Your grade is E\");\n",
    "elif per<33:\n",
    "    print(\"FAil\");\n",
    "else:\n",
    "    print(\"You enter the unapropriate no.\");\n",
    "print(\"Your percentage is\",per);"
   ]
  },
  {
   "cell_type": "code",
   "execution_count": 14,
   "id": "6c3b24ce",
   "metadata": {},
   "outputs": [
    {
     "name": "stdout",
     "output_type": "stream",
     "text": [
      "Enter the integer:- 5\n",
      "odd number\n"
     ]
    }
   ],
   "source": [
    "#Write a program which take input from user and identify that the given number is even or odd?\n",
    "n=int(input(\"Enter the integer:- \"));\n",
    "if n%2==0:\n",
    "    print(\"Even number\");\n",
    "else:\n",
    "    print(\"odd number\");"
   ]
  },
  {
   "cell_type": "code",
   "execution_count": 15,
   "id": "4d18afb4",
   "metadata": {},
   "outputs": [
    {
     "name": "stdout",
     "output_type": "stream",
     "text": [
      "[1, 1, 2, 3, 5, 8, 13, 21, 34, 55, 89]\n",
      "The length of the list is 11\n"
     ]
    }
   ],
   "source": [
    "#Write a program which print the length of the list?\n",
    "a = [1, 1, 2, 3, 5, 8, 13, 21, 34, 55, 89];\n",
    "print(a);\n",
    "print(\"The length of the list is\",len(a));"
   ]
  },
  {
   "cell_type": "code",
   "execution_count": 22,
   "id": "2e7adefe",
   "metadata": {},
   "outputs": [
    {
     "name": "stdout",
     "output_type": "stream",
     "text": [
      "list [1, 1, 2, 3, 5, 8, 13, 21, 34, 55, 89]\n",
      "Sum all the numeric items in a list is 232\n"
     ]
    }
   ],
   "source": [
    "#Write a Python program to sum all the numeric items in a list?\n",
    "a = [1, 1, 2, 3, 5, 8, 13, 21, 34, 55, 89];\n",
    "print(\"list\",a);\n",
    "s=sum(a);\n",
    "print(\"Sum all the numeric items in a list is\",s);"
   ]
  },
  {
   "cell_type": "code",
   "execution_count": 20,
   "id": "2ec185f2",
   "metadata": {},
   "outputs": [
    {
     "name": "stdout",
     "output_type": "stream",
     "text": [
      "largest number is 102\n"
     ]
    }
   ],
   "source": [
    "#Write a Python program to get the largest number from a numeric list.\n",
    "a = [97,45,102,88,99,55,95,67,90];\n",
    "z=max(a);\n",
    "print(\"largest number is\",z);"
   ]
  },
  {
   "cell_type": "code",
   "execution_count": 21,
   "id": "10511cf5",
   "metadata": {},
   "outputs": [
    {
     "name": "stdout",
     "output_type": "stream",
     "text": [
      "1\n",
      "2\n",
      "3\n",
      "4\n"
     ]
    }
   ],
   "source": [
    "#Write a program that prints out all the elements of the list that are less than 5.\n",
    "a = [5,8,1,2,56,88,3,6,7,4];\n",
    "for i in range(0,len(a)):\n",
    "    if a[i]<5:\n",
    "        print(a[i]);"
   ]
  },
  {
   "cell_type": "code",
   "execution_count": null,
   "id": "0a4861d5",
   "metadata": {},
   "outputs": [],
   "source": []
  }
 ],
 "metadata": {
  "kernelspec": {
   "display_name": "Python 3",
   "language": "python",
   "name": "python3"
  },
  "language_info": {
   "codemirror_mode": {
    "name": "ipython",
    "version": 3
   },
   "file_extension": ".py",
   "mimetype": "text/x-python",
   "name": "python",
   "nbconvert_exporter": "python",
   "pygments_lexer": "ipython3",
   "version": "3.8.8"
  }
 },
 "nbformat": 4,
 "nbformat_minor": 5
}
